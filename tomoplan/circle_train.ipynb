{
 "cells": [
  {
   "cell_type": "code",
<<<<<<< HEAD
   "execution_count": null,
=======
   "execution_count": 10,
>>>>>>> refs/remotes/origin/main
   "metadata": {},
   "outputs": [],
   "source": [
    "import tomopy\n",
    "from tomoplan.gan3d import GAN3d\n",
    "import numpy as np\n",
    "import matplotlib.pyplot as plt\n",
<<<<<<< HEAD
    "from tensorflow.keras.models import load_model\n",
    "import tifffile"
=======
    "from numba import njit, prange"
>>>>>>> refs/remotes/origin/main
   ]
  },
  {
   "cell_type": "code",
   "execution_count": 11,
   "metadata": {},
   "outputs": [],
   "source": [
    "\n",
    "def circleval(px, py, pz, cx, cy, cz, ri):\n",
    "    circle = (px - cx)**2 + (py - cy)**2 + (pz - cz)**2< ri**2\n",
    "    return circle\n",
    "\n",
    "@njit(parallel=True)\n",
    "def drawcircle(img, x, y, z, rad):\n",
    "    dx, dy, dz = img.shape  \n",
    "    _x = np.arange(dx)\n",
    "    _y = np.arange(dy)\n",
    "    _z = np.arange(dz) \n",
    "    px, py, pz = np.meshgrid(_x, _y, _z)\n",
    "    \n",
    "#    Parallel(n_jobs = 16)(delayed)\n",
    "    for m in prange(len(rad)):\n",
    "        # img += (px - cx)**2 + (py - cy)**2 + (pz - cz)**2< ri**2\n",
    "        \n",
    "        # img += circleval(px, py, pz, x[m], y[m], z[m], rad[m])\n",
    "        img += (px - x[m])**2 + (py - y[m])**2 + (pz - z[m])**2< rad[m]**2\n",
    "\n",
    "    return img\n",
    "\n",
    "def obj_generate(dx, dy, dz, ncl, sml, lrg):\n",
    "    # random circle generation\n",
    "    # dx = 256  # size of x-axis\n",
    "    # dy = 256  # size of y-axis\n",
    "    # ncl = 10  # number of circles in an image frame\n",
    "    # sml = 4  # smallest radius of the circle\n",
    "    # lrg = 20  # largest radius of the circle\n",
    "    # initial image frame\n",
    "    x = np.random.randint(dx//4, dx//4*3, ncl)\n",
    "    y = np.random.randint(dx//4, dx//4*3, ncl)\n",
    "    z = np.random.randint(dx//4, dx//4*3, ncl)\n",
    "    # print(x, y, z)\n",
    "    # cen = _round_to_even(np.sqrt(dx **2 + dy **2) + 2)/2+cen_shift\n",
    "   # cen = dx/2+cen_shift\n",
    "    rad = np.random.randint(sml, lrg, ncl)\n",
    "    obj = np.zeros((dx, dy, dz))\n",
    " #   for m in range(img_num):\n",
    "    obj = drawcircle(obj, x, y, z, rad)\n",
    "    # calculate the sinograms of obj\n",
    "    ang = tomopy.angles(180, ang1=0.0, ang2=180.0)\n",
    "    prj = tomopy.project(obj, ang, pad=False)  # <- this produces sinograms\n",
    "    \n",
    "    #prj = np.swapaxes(prj, 0, 1)\n",
    "    return prj, obj\n",
    "\n",
    "def _round_to_even(num):\n",
    "    return (np.ceil(num / 2.) * 2).astype('int')"
   ]
  },
  {
   "cell_type": "code",
   "execution_count": 12,
   "metadata": {},
   "outputs": [
    {
     "ename": "TypingError",
     "evalue": "Failed in nopython mode pipeline (step: nopython frontend)\n\u001b[1m\u001b[1mUse of unsupported NumPy function 'numpy.meshgrid' or unsupported use of the function.\n\u001b[1m\nFile \"../../../../../var/folders/5s/k16zskrj0mxg46fkr77fdmgc0000gq/T/ipykernel_91250/882622231.py\", line 11:\u001b[0m\n\u001b[1m<source missing, REPL/exec in use?>\u001b[0m\n\u001b[0m\n\u001b[0m\u001b[1mDuring: typing of get attribute at /var/folders/5s/k16zskrj0mxg46fkr77fdmgc0000gq/T/ipykernel_91250/882622231.py (11)\u001b[0m\n\u001b[1m\nFile \"../../../../../var/folders/5s/k16zskrj0mxg46fkr77fdmgc0000gq/T/ipykernel_91250/882622231.py\", line 11:\u001b[0m\n\u001b[1m<source missing, REPL/exec in use?>\u001b[0m\n",
     "output_type": "error",
     "traceback": [
      "\u001b[0;31m---------------------------------------------------------------------------\u001b[0m",
      "\u001b[0;31mTypingError\u001b[0m                               Traceback (most recent call last)",
      "\u001b[1;32m/Users/xiaogangyang/pyprojects/tomoplan/tomoplan/circle_train.ipynb Cell 3\u001b[0m in \u001b[0;36m<cell line: 5>\u001b[0;34m()\u001b[0m\n\u001b[1;32m      <a href='vscode-notebook-cell:/Users/xiaogangyang/pyprojects/tomoplan/tomoplan/circle_train.ipynb#W2sZmlsZQ%3D%3D?line=4'>5</a>\u001b[0m \u001b[39mfor\u001b[39;00m i \u001b[39min\u001b[39;00m \u001b[39mrange\u001b[39m(\u001b[39m20\u001b[39m):\n\u001b[1;32m      <a href='vscode-notebook-cell:/Users/xiaogangyang/pyprojects/tomoplan/tomoplan/circle_train.ipynb#W2sZmlsZQ%3D%3D?line=5'>6</a>\u001b[0m     ncl \u001b[39m=\u001b[39m np\u001b[39m.\u001b[39mrandom\u001b[39m.\u001b[39mrandint(\u001b[39m2\u001b[39m, \u001b[39m20\u001b[39m)\n\u001b[0;32m----> <a href='vscode-notebook-cell:/Users/xiaogangyang/pyprojects/tomoplan/tomoplan/circle_train.ipynb#W2sZmlsZQ%3D%3D?line=6'>7</a>\u001b[0m     prj, obj \u001b[39m=\u001b[39m obj_generate(dx, dy, dz, \u001b[39m10\u001b[39;49m, \u001b[39m4\u001b[39;49m, \u001b[39m20\u001b[39;49m)\n\u001b[1;32m      <a href='vscode-notebook-cell:/Users/xiaogangyang/pyprojects/tomoplan/tomoplan/circle_train.ipynb#W2sZmlsZQ%3D%3D?line=7'>8</a>\u001b[0m     train_input[i,:, :] \u001b[39m=\u001b[39m prj[\u001b[39m0\u001b[39m]\n\u001b[1;32m      <a href='vscode-notebook-cell:/Users/xiaogangyang/pyprojects/tomoplan/tomoplan/circle_train.ipynb#W2sZmlsZQ%3D%3D?line=8'>9</a>\u001b[0m     train_output[i] \u001b[39m=\u001b[39m obj\n",
      "\u001b[1;32m/Users/xiaogangyang/pyprojects/tomoplan/tomoplan/circle_train.ipynb Cell 3\u001b[0m in \u001b[0;36mobj_generate\u001b[0;34m(dx, dy, dz, ncl, sml, lrg)\u001b[0m\n\u001b[1;32m     <a href='vscode-notebook-cell:/Users/xiaogangyang/pyprojects/tomoplan/tomoplan/circle_train.ipynb#W2sZmlsZQ%3D%3D?line=36'>37</a>\u001b[0m    obj \u001b[39m=\u001b[39m np\u001b[39m.\u001b[39mzeros((dx, dy, dz))\n\u001b[1;32m     <a href='vscode-notebook-cell:/Users/xiaogangyang/pyprojects/tomoplan/tomoplan/circle_train.ipynb#W2sZmlsZQ%3D%3D?line=37'>38</a>\u001b[0m \u001b[39m#   for m in range(img_num):\u001b[39;00m\n\u001b[0;32m---> <a href='vscode-notebook-cell:/Users/xiaogangyang/pyprojects/tomoplan/tomoplan/circle_train.ipynb#W2sZmlsZQ%3D%3D?line=38'>39</a>\u001b[0m    obj \u001b[39m=\u001b[39m drawcircle(obj, x, y, z, rad)\n\u001b[1;32m     <a href='vscode-notebook-cell:/Users/xiaogangyang/pyprojects/tomoplan/tomoplan/circle_train.ipynb#W2sZmlsZQ%3D%3D?line=39'>40</a>\u001b[0m    \u001b[39m# calculate the sinograms of obj\u001b[39;00m\n\u001b[1;32m     <a href='vscode-notebook-cell:/Users/xiaogangyang/pyprojects/tomoplan/tomoplan/circle_train.ipynb#W2sZmlsZQ%3D%3D?line=40'>41</a>\u001b[0m    ang \u001b[39m=\u001b[39m tomopy\u001b[39m.\u001b[39mangles(\u001b[39m180\u001b[39m, ang1\u001b[39m=\u001b[39m\u001b[39m0.0\u001b[39m, ang2\u001b[39m=\u001b[39m\u001b[39m180.0\u001b[39m)\n",
      "File \u001b[0;32m~/miniforge3/envs/tf/lib/python3.8/site-packages/numba/core/dispatcher.py:468\u001b[0m, in \u001b[0;36m_DispatcherBase._compile_for_args\u001b[0;34m(self, *args, **kws)\u001b[0m\n\u001b[1;32m    464\u001b[0m         msg \u001b[39m=\u001b[39m (\u001b[39mf\u001b[39m\u001b[39m\"\u001b[39m\u001b[39m{\u001b[39;00m\u001b[39mstr\u001b[39m(e)\u001b[39m.\u001b[39mrstrip()\u001b[39m}\u001b[39;00m\u001b[39m \u001b[39m\u001b[39m\\n\u001b[39;00m\u001b[39m\\n\u001b[39;00m\u001b[39mThis error may have been caused \u001b[39m\u001b[39m\"\u001b[39m\n\u001b[1;32m    465\u001b[0m                \u001b[39mf\u001b[39m\u001b[39m\"\u001b[39m\u001b[39mby the following argument(s):\u001b[39m\u001b[39m\\n\u001b[39;00m\u001b[39m{\u001b[39;00margs_str\u001b[39m}\u001b[39;00m\u001b[39m\\n\u001b[39;00m\u001b[39m\"\u001b[39m)\n\u001b[1;32m    466\u001b[0m         e\u001b[39m.\u001b[39mpatch_message(msg)\n\u001b[0;32m--> 468\u001b[0m     error_rewrite(e, \u001b[39m'\u001b[39;49m\u001b[39mtyping\u001b[39;49m\u001b[39m'\u001b[39;49m)\n\u001b[1;32m    469\u001b[0m \u001b[39mexcept\u001b[39;00m errors\u001b[39m.\u001b[39mUnsupportedError \u001b[39mas\u001b[39;00m e:\n\u001b[1;32m    470\u001b[0m     \u001b[39m# Something unsupported is present in the user code, add help info\u001b[39;00m\n\u001b[1;32m    471\u001b[0m     error_rewrite(e, \u001b[39m'\u001b[39m\u001b[39munsupported_error\u001b[39m\u001b[39m'\u001b[39m)\n",
      "File \u001b[0;32m~/miniforge3/envs/tf/lib/python3.8/site-packages/numba/core/dispatcher.py:409\u001b[0m, in \u001b[0;36m_DispatcherBase._compile_for_args.<locals>.error_rewrite\u001b[0;34m(e, issue_type)\u001b[0m\n\u001b[1;32m    407\u001b[0m     \u001b[39mraise\u001b[39;00m e\n\u001b[1;32m    408\u001b[0m \u001b[39melse\u001b[39;00m:\n\u001b[0;32m--> 409\u001b[0m     \u001b[39mraise\u001b[39;00m e\u001b[39m.\u001b[39mwith_traceback(\u001b[39mNone\u001b[39;00m)\n",
      "\u001b[0;31mTypingError\u001b[0m: Failed in nopython mode pipeline (step: nopython frontend)\n\u001b[1m\u001b[1mUse of unsupported NumPy function 'numpy.meshgrid' or unsupported use of the function.\n\u001b[1m\nFile \"../../../../../var/folders/5s/k16zskrj0mxg46fkr77fdmgc0000gq/T/ipykernel_91250/882622231.py\", line 11:\u001b[0m\n\u001b[1m<source missing, REPL/exec in use?>\u001b[0m\n\u001b[0m\n\u001b[0m\u001b[1mDuring: typing of get attribute at /var/folders/5s/k16zskrj0mxg46fkr77fdmgc0000gq/T/ipykernel_91250/882622231.py (11)\u001b[0m\n\u001b[1m\nFile \"../../../../../var/folders/5s/k16zskrj0mxg46fkr77fdmgc0000gq/T/ipykernel_91250/882622231.py\", line 11:\u001b[0m\n\u001b[1m<source missing, REPL/exec in use?>\u001b[0m\n"
     ]
    }
   ],
   "source": [
    "\n",
    "dx, dy , dz = 128, 128, 128\n",
    "train_input = np.zeros((20, 128, 128))\n",
    "train_output = np.zeros((20, 128, 128, 128))\n",
    "\n",
    "for i in range(20):\n",
    "    ncl = np.random.randint(2, 20)\n",
    "    prj, obj = obj_generate(dx, dy, dz, 10, 4, 20)\n",
    "    train_input[i,:, :] = prj[0]\n",
    "    train_output[i] = obj"
   ]
  },
  {
   "cell_type": "code",
   "execution_count": 4,
   "metadata": {},
   "outputs": [],
   "source": [
    "train_input = train_input.astype('float32')\n",
    "train_output = train_output.astype('float32')"
   ]
  },
  {
   "cell_type": "code",
   "execution_count": 5,
   "metadata": {},
   "outputs": [
    {
     "name": "stdout",
     "output_type": "stream",
     "text": [
      "Epoch 1 takes 2.873016834259033 sec. Generator loss: 10.48985481262207 \n",
      "\n",
      "Epoch 101 takes 0.14909911155700684 sec. Generator loss: 8.51291275024414 \n",
      "\n",
      "Epoch 201 takes 0.1471118927001953 sec. Generator loss: 8.516603469848633 \n",
      "\n",
      "Epoch 301 takes 0.1493079662322998 sec. Generator loss: 8.523820877075195 \n",
      "\n",
      "Epoch 401 takes 0.1440279483795166 sec. Generator loss: 8.538406372070312 \n",
      "\n",
      "Epoch 501 takes 0.14751887321472168 sec. Generator loss: 8.561424255371094 \n",
      "\n",
      "Epoch 601 takes 0.14680814743041992 sec. Generator loss: 8.603163719177246 \n",
      "\n",
      "Epoch 701 takes 0.14519023895263672 sec. Generator loss: 8.640937805175781 \n",
      "\n",
      "Epoch 801 takes 0.14649581909179688 sec. Generator loss: 8.351181983947754 \n",
      "\n",
      "Epoch 901 takes 0.14489293098449707 sec. Generator loss: 8.471208572387695 \n",
      "\n",
      "WARNING:tensorflow:Compiled the loaded model, but the compiled metrics have yet to be built. `model.compile_metrics` will be empty until you train or evaluate the model.\n",
      "WARNING:tensorflow:Compiled the loaded model, but the compiled metrics have yet to be built. `model.compile_metrics` will be empty until you train or evaluate the model.\n"
     ]
    }
   ],
   "source": [
    "train_obj = GAN3d(train_input, train_output, iter_num=1000, save_wpath='/Users/xiaogangyang/pyprojects/weights/')\n",
    "train_obj.train"
   ]
  },
  {
   "cell_type": "code",
   "execution_count": 6,
   "metadata": {},
   "outputs": [
    {
     "name": "stdout",
     "output_type": "stream",
     "text": [
      "WARNING:tensorflow:No training configuration found in the save file, so the model was *not* compiled. Compile it manually.\n",
      "Model: \"model\"\n",
      "_________________________________________________________________\n",
      " Layer (type)                Output Shape              Param #   \n",
      "=================================================================\n",
      " input_1 (InputLayer)        [(None, 128, 128, 1)]     0         \n",
      "                                                                 \n",
      " sequential (Sequential)     (None, 128, 128, 256)     3584      \n",
      "                                                                 \n",
      " sequential_1 (Sequential)   (None, 64, 64, 256)       591104    \n",
      "                                                                 \n",
      " sequential_2 (Sequential)   (None, 64, 64, 512)       1182208   \n",
      "                                                                 \n",
      " sequential_3 (Sequential)   (None, 32, 32, 512)       2361856   \n",
      "                                                                 \n",
      " sequential_4 (Sequential)   (None, 32, 32, 512)       2361856   \n",
      "                                                                 \n",
      " sequential_5 (Sequential)   (None, 16, 16, 512)       2361856   \n",
      "                                                                 \n",
      " sequential_6 (Sequential)   (None, 16, 16, 512)       2361856   \n",
      "                                                                 \n",
      " sequential_7 (Sequential)   (None, 16, 16, 1)         4613      \n",
      "                                                                 \n",
      " flatten (Flatten)           (None, 256)               0         \n",
      "                                                                 \n",
      " sequential_8 (Sequential)   (None, 128)               33408     \n",
      "                                                                 \n",
      " sequential_9 (Sequential)   (None, 256)               34048     \n",
      "                                                                 \n",
      " sequential_10 (Sequential)  (None, 128)               33408     \n",
      "                                                                 \n",
      " sequential_11 (Sequential)  (None, 256)               34048     \n",
      "                                                                 \n",
      " tf.reshape (TFOpLambda)     (1, 16, 16, 1)            0         \n",
      "                                                                 \n",
      " sequential_12 (Sequential)  (1, 16, 16, 1)            13        \n",
      "                                                                 \n",
      " sequential_13 (Sequential)  (1, 16, 16, 512)          6656      \n",
      "                                                                 \n",
      " sequential_14 (Sequential)  (1, 32, 32, 512)          2361344   \n",
      "                                                                 \n",
      " sequential_15 (Sequential)  (1, 32, 32, 512)          2361344   \n",
      "                                                                 \n",
      " sequential_16 (Sequential)  (1, 64, 64, 512)          2361344   \n",
      "                                                                 \n",
      " sequential_17 (Sequential)  (1, 64, 64, 512)          2361344   \n",
      "                                                                 \n",
      " sequential_18 (Sequential)  (1, 128, 128, 256)        1180672   \n",
      "                                                                 \n",
      " sequential_22 (Sequential)  (1, 128, 128, 128)        295424    \n",
      "                                                                 \n",
      "=================================================================\n",
      "Total params: 22,291,986\n",
      "Trainable params: 22,278,414\n",
      "Non-trainable params: 13,572\n",
      "_________________________________________________________________\n"
     ]
    }
   ],
   "source": [
    "from tensorflow.keras.models import load_model\n",
    "import tifffile\n",
    "model = load_model('/Users/xiaogangyang/pyprojects/weights/3d_generator.h5')\n",
    "model.summary()\n",
    "test_input = np.reshape(train_input[10], (1, 128, 128, 1))\n",
    "test_output = model(test_input)\n",
    "test_output = test_output.numpy()\n",
    "# test_output = recon_model.predict(test_input)\n",
    "tifffile.imwrite('/Users/xiaogangyang/pyprojects/3d_predict.tiff', test_output.reshape((128, 128, 128)))"
   ]
  },
  {
   "cell_type": "code",
   "execution_count": null,
   "metadata": {},
   "outputs": [],
   "source": [
    "model = load_model('/nsls2/users/xyang4/data/3d_generator.h5')\n",
    "#model.summary()\n",
    "test_input = np.reshape(train_input[9], (1, 128, 128, 1))\n",
    "test_output = model(test_input)\n",
    "test_output = test_output.numpy()\n",
    "# test_output = recon_model.predict(test_input)\n",
    "tifffile.imwrite('/nsls2/users/xyang4/data/3d_predict.tiff', test_output.reshape((128, 128, 128)))\n"
   ]
  }
 ],
 "metadata": {
  "kernelspec": {
   "display_name": "Python 3.8.13 ('tf')",
   "language": "python",
   "name": "python3"
  },
  "language_info": {
   "codemirror_mode": {
    "name": "ipython",
    "version": 3
   },
   "file_extension": ".py",
   "mimetype": "text/x-python",
   "name": "python",
   "nbconvert_exporter": "python",
   "pygments_lexer": "ipython3",
   "version": "3.8.13"
  },
  "orig_nbformat": 4,
  "vscode": {
   "interpreter": {
    "hash": "9f8fbc22e347e46c996ee337469028ea809367e292b2e339fa50accf94772900"
   }
  }
 },
 "nbformat": 4,
 "nbformat_minor": 2
}
