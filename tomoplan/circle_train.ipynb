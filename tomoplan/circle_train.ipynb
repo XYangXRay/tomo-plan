{
 "cells": [
  {
   "cell_type": "code",
   "execution_count": null,
   "metadata": {},
   "outputs": [],
   "source": [
    "import tomopy\n",
    "from tomoplan.gan3d import GAN3d\n",
    "import numpy as np\n",
    "import matplotlib.pyplot as plt\n",
    "from tensorflow.keras.models import load_model\n",
    "import tifffile"
   ]
  },
  {
   "cell_type": "code",
   "execution_count": 2,
   "metadata": {},
   "outputs": [],
   "source": [
    "def circleval(px, py, pz, cx, cy, cz, ri):\n",
    "    circle = (px - cx)**2 + (py - cy)**2 + (pz - cz)**2< ri**2\n",
    "    return circle\n",
    "def drawcircle(img, x, y, z, rad):\n",
    "\n",
    "\n",
    "    dx, dy, dz = img.shape\n",
    "    \n",
    "    _x = np.arange(dx)\n",
    "    _y = np.arange(dy)\n",
    "    _z = np.arange(dz)\n",
    "    \n",
    "    px, py, pz = np.meshgrid(_x, _y, _z)\n",
    "    \n",
    "#    Parallel(n_jobs = 16)(delayed)\n",
    "    for m in range(len(rad)):\n",
    "        \n",
    "        img += circleval(px, py, pz, x[m], y[m], z[m], rad[m])\n",
    "        #img += (px - x[m])**2 + (py - y[m])**2 + (pz - z[m])**2< rad[m]**2\n",
    "\n",
    "    return img\n",
    "\n",
    "def obj_generate(dx, dy, dz, ncl, sml, lrg):\n",
    "    # random circle generation\n",
    "    # dx = 256  # size of x-axis\n",
    "    # dy = 256  # size of y-axis\n",
    "    # ncl = 10  # number of circles in an image frame\n",
    "    # sml = 4  # smallest radius of the circle\n",
    "    # lrg = 20  # largest radius of the circle\n",
    "    # initial image frame\n",
    "    x = np.random.randint(dx//4, dx//4*3, ncl)\n",
    "    y = np.random.randint(dx//4, dx//4*3, ncl)\n",
    "    z = np.random.randint(dx//4, dx//4*3, ncl)\n",
    "    # print(x, y, z)\n",
    "    # cen = _round_to_even(np.sqrt(dx **2 + dy **2) + 2)/2+cen_shift\n",
    "   # cen = dx/2+cen_shift\n",
    "    rad = np.random.randint(sml, lrg, ncl)\n",
    "    obj = np.zeros((dx, dy, dz))\n",
    " #   for m in range(img_num):\n",
    "    obj = drawcircle(obj, x, y, z, rad)\n",
    "    # calculate the sinograms of obj\n",
    "    ang = tomopy.angles(180, ang1=0.0, ang2=180.0)\n",
    "    prj = tomopy.project(obj, ang, pad=False)  # <- this produces sinograms\n",
    "    \n",
    "    #prj = np.swapaxes(prj, 0, 1)\n",
    "    return prj, obj\n",
    "\n",
    "def _round_to_even(num):\n",
    "    return (np.ceil(num / 2.) * 2).astype('int')"
   ]
  },
  {
   "cell_type": "code",
   "execution_count": 3,
   "metadata": {},
   "outputs": [],
   "source": [
    "dx, dy , dz = 128, 128, 128\n",
    "train_input = np.zeros((20, 128, 128))\n",
    "train_output = np.zeros((20, 128, 128, 128))\n",
    "\n",
    "for i in range(20):\n",
    "    ncl = np.random.randint(2, 20)\n",
    "    prj, obj = obj_generate(dx, dy, dz, 10, 4, 20)\n",
    "    train_input[i,:, :] = prj[0]\n",
    "    train_output[i] = obj"
   ]
  },
  {
   "cell_type": "code",
   "execution_count": 5,
   "metadata": {},
   "outputs": [],
   "source": [
    "train_input = train_input.astype('float32')\n",
    "train_output = train_output.astype('float32')"
   ]
  },
  {
   "cell_type": "code",
   "execution_count": 6,
   "metadata": {},
   "outputs": [
    {
     "name": "stdout",
     "output_type": "stream",
     "text": [
      "Model: \"model_1\"\n",
      "_________________________________________________________________\n",
      " Layer (type)                Output Shape              Param #   \n",
      "=================================================================\n",
      " input_2 (InputLayer)        [(None, 128, 128, 1)]     0         \n",
      "                                                                 \n",
      " sequential_24 (Sequential)  (None, 128, 128, 256)     3584      \n",
      "                                                                 \n",
      " sequential_25 (Sequential)  (None, 64, 64, 256)       591104    \n",
      "                                                                 \n",
      " sequential_26 (Sequential)  (None, 64, 64, 512)       1182208   \n",
      "                                                                 \n",
      " sequential_27 (Sequential)  (None, 32, 32, 512)       2361856   \n",
      "                                                                 \n",
      " sequential_28 (Sequential)  (None, 32, 32, 512)       2361856   \n",
      "                                                                 \n",
      " sequential_29 (Sequential)  (None, 16, 16, 512)       2361856   \n",
      "                                                                 \n",
      " sequential_30 (Sequential)  (None, 16, 16, 512)       2361856   \n",
      "                                                                 \n",
      " sequential_31 (Sequential)  (None, 16, 16, 1)         4613      \n",
      "                                                                 \n",
      " flatten_2 (Flatten)         (None, 256)               0         \n",
      "                                                                 \n",
      " sequential_32 (Sequential)  (None, 128)               33408     \n",
      "                                                                 \n",
      " sequential_33 (Sequential)  (None, 256)               34048     \n",
      "                                                                 \n",
      " sequential_34 (Sequential)  (None, 128)               33408     \n",
      "                                                                 \n",
      " sequential_35 (Sequential)  (None, 256)               34048     \n",
      "                                                                 \n",
      " tf.reshape_1 (TFOpLambda)   (1, 16, 16, 1)            0         \n",
      "                                                                 \n",
      " sequential_36 (Sequential)  (1, 16, 16, 1)            13        \n",
      "                                                                 \n",
      " sequential_37 (Sequential)  (1, 16, 16, 512)          6656      \n",
      "                                                                 \n",
      " sequential_38 (Sequential)  (1, 32, 32, 512)          2361344   \n",
      "                                                                 \n",
      " sequential_39 (Sequential)  (1, 32, 32, 512)          2361344   \n",
      "                                                                 \n",
      " sequential_40 (Sequential)  (1, 64, 64, 512)          2361344   \n",
      "                                                                 \n",
      " sequential_41 (Sequential)  (1, 64, 64, 512)          2361344   \n",
      "                                                                 \n",
      " sequential_42 (Sequential)  (1, 128, 128, 256)        1180672   \n",
      "                                                                 \n",
      " sequential_46 (Sequential)  (1, 128, 128, 128)        295424    \n",
      "                                                                 \n",
      "=================================================================\n",
      "Total params: 22,291,986\n",
      "Trainable params: 22,278,414\n",
      "Non-trainable params: 13,572\n",
      "_________________________________________________________________\n",
      "<BatchDataset element_spec=(TensorSpec(shape=(None, 128, 128), dtype=tf.float32, name=None), TensorSpec(shape=(None, 128, 128, 128), dtype=tf.float32, name=None))>\n"
     ]
    },
    {
     "name": "stderr",
     "output_type": "stream",
     "text": [
      "2022-08-22 17:03:43.790058: W tensorflow/core/platform/profile_utils/cpu_utils.cc:128] Failed to get CPU frequency: 0 Hz\n",
      "2022-08-22 17:03:43.790847: I tensorflow/core/grappler/optimizers/custom_graph_optimizer_registry.cc:113] Plugin optimizer for device_type GPU is enabled.\n"
     ]
    },
    {
     "name": "stdout",
     "output_type": "stream",
     "text": [
      ".Epoch 1 takes 9.0663321018219 sec. Generator loss: 6.977550029754639 \n",
      "\n"
     ]
    }
   ],
   "source": [
    "train_obj = GAN3d(train_input, train_output, iter_num=1000)\n",
    "train_obj.train"
   ]
  },
  {
   "cell_type": "code",
   "execution_count": null,
   "metadata": {},
   "outputs": [],
   "source": [
    "model = load_model('/nsls2/users/xyang4/data/3d_generator.h5')\n",
    "#model.summary()\n",
    "test_input = np.reshape(train_input[9], (1, 128, 128, 1))\n",
    "test_output = model(test_input)\n",
    "test_output = test_output.numpy()\n",
    "# test_output = recon_model.predict(test_input)\n",
    "tifffile.imwrite('/nsls2/users/xyang4/data/3d_predict.tiff', test_output.reshape((128, 128, 128)))\n"
   ]
  }
 ],
 "metadata": {
  "kernelspec": {
   "display_name": "Python 3.8.13 ('tf')",
   "language": "python",
   "name": "python3"
  },
  "language_info": {
   "codemirror_mode": {
    "name": "ipython",
    "version": 3
   },
   "file_extension": ".py",
   "mimetype": "text/x-python",
   "name": "python",
   "nbconvert_exporter": "python",
   "pygments_lexer": "ipython3",
   "version": "3.8.13"
  },
  "orig_nbformat": 4,
  "vscode": {
   "interpreter": {
    "hash": "9f8fbc22e347e46c996ee337469028ea809367e292b2e339fa50accf94772900"
   }
  }
 },
 "nbformat": 4,
 "nbformat_minor": 2
}
