{
 "cells": [
  {
   "cell_type": "code",
   "execution_count": 2,
   "metadata": {},
   "outputs": [],
   "source": [
    "import numpy as np\n",
    "import matplotlib.pyplot as plt\n",
    "import tomopy\n",
    "import tifffile\n",
    "from skimage.metrics import structural_similarity as ssim"
   ]
  },
  {
   "cell_type": "code",
   "execution_count": 8,
   "metadata": {},
   "outputs": [],
   "source": [
    "data1 = tifffile.imread('/data/xrf_tomo_andy/exp_202211_sim/exp4_Ni_K_ganrec-1.tif')\n",
    "data2 = tifffile.imread('/data/xrf_tomo_andy/exp_202211_sim/exp4_Ni_K_ganrec-2.tif')"
   ]
  },
  {
   "cell_type": "code",
   "execution_count": 9,
   "metadata": {},
   "outputs": [],
   "source": [
    "data3 = tifffile.imread('/data/xrf_tomo_andy/exp_202211_sim/data-1.tif')\n",
    "data4 = tifffile.imread('/data/xrf_tomo_andy/exp_202211_sim/data.tiff')"
   ]
  },
  {
   "cell_type": "code",
   "execution_count": 10,
   "metadata": {},
   "outputs": [],
   "source": [
    "data = data3+data4\n",
    "data[data<0.1]=0\n",
    "tifffile.imsave('/data/xrf_tomo_andy/exp_202211_sim/data_1.tiff', data)\n",
    "ang = tomopy.angles(181)\n",
    "prj = tomopy.project(data, ang, pad=False)\n",
    "tifffile.imsave('/data/xrf_tomo_andy/exp_202211_sim/prj_sim.tiff', prj)"
   ]
  },
  {
   "cell_type": "code",
   "execution_count": 12,
   "metadata": {},
   "outputs": [],
   "source": [
    "def nor_data(data):\n",
    "    data = (data-data.min())/(data.max()-data.min())\n",
    "    return data"
   ]
  },
  {
   "cell_type": "code",
   "execution_count": 8,
   "metadata": {},
   "outputs": [],
   "source": [
    "prj = nor_data(prj)"
   ]
  },
  {
   "cell_type": "code",
   "execution_count": 14,
   "metadata": {},
   "outputs": [],
   "source": [
    "def mssim_compute(data1, data2):\n",
    "    mssim = np.zeros((len(data)))\n",
    "    data1 = nor_data(data1)\n",
    "    data2 = nor_data(data2)\n",
    "    for i in range(len(data1)):\n",
    "        ssim_val = ssim(data1[i], data2[i], full = True)\n",
    "        mssim[i] = ssim_val[0]\n",
    "    return mssim\n",
    "    "
   ]
  },
  {
   "cell_type": "code",
   "execution_count": 15,
   "metadata": {},
   "outputs": [],
   "source": [
    "\n",
    "for i in range(10):\n",
    "    ang = tomopy.angles(18*(i+1)+1)\n",
    "    prj = tomopy.project(data, ang, pad=False)\n",
    "    prj = nor_data(prj)\n",
    "    # tifffile.imsave(f'/data/xrf_tomo_andy/exp_202211_sim/prj_sim_{18*(i+1)+1}.tiff', prj)\n",
    "    recon_gridrec = tomopy.recon(prj, ang, algorithm='gridrec', filter_name='parzen')\n",
    "    tifffile.imsave(f'/data/xrf_tomo_andy/exp_202211_sim/recon/recon_gridrec_{18*(i+1)+1}.tiff', recon_gridrec)\n",
    "    mssim_gridrec = mssim_compute(data, recon_gridrec)\n",
    "    recon_sirt = tomopy.recon(prj, ang, algorithm='sirt', num_iter =100)\n",
    "    tifffile.imsave(f'/data/xrf_tomo_andy/exp_202211_sim/recon/recon_sirt_{18*(i+1)+1}.tiff', recon_sirt)\n",
    "    mssim_sirt = mssim_compute(data, recon_sirt)\n",
    "    recon_mlem = tomopy.recon(prj, ang, algorithm='pml_hybrid', num_iter =100)\n",
    "    tifffile.imsave(f'/data/xrf_tomo_andy/exp_202211_sim/recon/recon_pml_hybrid_{18*(i+1)+1}.tiff', recon_mlem)\n",
    "    mssim_pml = mssim_compute(data, recon_mlem)"
   ]
  },
  {
   "cell_type": "code",
   "execution_count": 20,
   "metadata": {},
   "outputs": [],
   "source": [
    "recon_pml = tifffile.imread('/data/xrf_tomo_andy/exp_202211_sim/recon/recon_pml_hybrid_19.tiff')"
   ]
  },
  {
   "cell_type": "code",
   "execution_count": 21,
   "metadata": {},
   "outputs": [],
   "source": [
    "mssim_pml_19 = mssim_compute(data, recon_pml)"
   ]
  },
  {
   "cell_type": "code",
   "execution_count": 24,
   "metadata": {},
   "outputs": [
    {
     "name": "stdout",
     "output_type": "stream",
     "text": [
      "181\n"
     ]
    }
   ],
   "source": [
    "print(len(ang))"
   ]
  },
  {
   "cell_type": "code",
   "execution_count": 14,
   "metadata": {},
   "outputs": [
    {
     "name": "stdout",
     "output_type": "stream",
     "text": [
      "[0.         0.34906585 0.51333213 0.67759842 0.8418647  1.00613098\n",
      " 1.17039726 1.33466355 1.49892983 1.66319611 1.82746239 1.99172868\n",
      " 2.15599496 2.32026124 2.48452752 2.64879381 2.81306009 2.97732637\n",
      " 3.14159265]\n",
      "[0.         0.34906585 0.52359878 0.68722339 0.85084801 1.01447263\n",
      " 1.17809725 1.34172186 1.50534648 1.6689711  1.83259571 1.99622033\n",
      " 2.15984495 2.32346957 2.48709418 2.6507188  2.81434342 2.97796804\n",
      " 3.14159265]\n",
      "[0.         0.26179939 0.52359878 0.6981317  0.8610291  1.02392649\n",
      " 1.18682389 1.34972129 1.51261869 1.67551608 1.83841348 2.00131088\n",
      " 2.16420827 2.32710567 2.49000307 2.65290046 2.81579786 2.97869526\n",
      " 3.14159265]\n",
      "[0.         0.23271057 0.46542113 0.6981317  0.87266463 1.03473091\n",
      " 1.1967972  1.35886349 1.52092978 1.68299606 1.84506235 2.00712864\n",
      " 2.16919493 2.33126122 2.4933275  2.65539379 2.81746008 2.97952637\n",
      " 3.14159265]\n",
      "[0.         0.21816616 0.43633231 0.65449847 0.87266463 1.04719755\n",
      " 1.20830487 1.36941218 1.5305195  1.69162681 1.85273413 2.01384144\n",
      " 2.17494876 2.33605608 2.49716339 2.65827071 2.81937802 2.98048534\n",
      " 3.14159265]\n",
      "[0.         0.20943951 0.41887902 0.62831853 0.83775804 1.04719755\n",
      " 1.22173048 1.38171899 1.54170751 1.70169602 1.86168454 2.02167305\n",
      " 2.18166156 2.34165008 2.50163859 2.66162711 2.82161562 2.98160414\n",
      " 3.14159265]\n",
      "[0.         0.20362175 0.40724349 0.61086524 0.81448698 1.01810873\n",
      " 1.22173048 1.3962634  1.5549297  1.71359599 1.87226229 2.03092858\n",
      " 2.18959488 2.34826118 2.50692747 2.66559377 2.82426006 2.98292636\n",
      " 3.14159265]\n",
      "[0.         0.1994662  0.3989324  0.5983986  0.7978648  0.997331\n",
      " 1.1967972  1.3962634  1.57079633 1.72787596 1.88495559 2.04203522\n",
      " 2.19911486 2.35619449 2.51327412 2.67035376 2.82743339 2.98451302\n",
      " 3.14159265]\n",
      "[0.         0.19634954 0.39269908 0.58904862 0.78539816 0.9817477\n",
      " 1.17809725 1.37444679 1.57079633 1.74532925 1.90046963 2.05561001\n",
      " 2.21075039 2.36589076 2.52103114 2.67617152 2.8313119  2.98645228\n",
      " 3.14159265]\n",
      "[0.         0.19392547 0.38785094 0.58177642 0.77570189 0.96962736\n",
      " 1.16355283 1.35747831 1.55140378 1.74532925 1.91986218 2.07257849\n",
      " 2.2252948  2.37801111 2.53072742 2.68344372 2.83616003 2.98887634\n",
      " 3.14159265]\n",
      "[0.         0.19198622 0.38397244 0.57595865 0.76794487 0.95993109\n",
      " 1.15191731 1.34390352 1.53588974 1.72787596 1.91986218 2.0943951\n",
      " 2.24399475 2.3935944  2.54319405 2.6927937  2.84239335 2.991993\n",
      " 3.14159265]\n",
      "[0.         0.19039955 0.38079911 0.57119866 0.76159822 0.95199777\n",
      " 1.14239733 1.33279688 1.52319644 1.71359599 1.90399555 2.0943951\n",
      " 2.26892803 2.41437213 2.55981624 2.70526034 2.85070444 2.99614855\n",
      " 3.14159265]\n",
      "[0.         0.18907734 0.37815467 0.56723201 0.75630934 0.94538668\n",
      " 1.13446401 1.32354135 1.51261869 1.70169602 1.89077336 2.07985069\n",
      " 2.26892803 2.44346095 2.58308729 2.72271363 2.86233997 3.00196631\n",
      " 3.14159265]\n",
      "[0.         0.18795853 0.37591707 0.5638756  0.75183414 0.93979267\n",
      " 1.12775121 1.31570974 1.50366828 1.69162681 1.87958535 2.06754388\n",
      " 2.25550242 2.44346095 2.61799388 2.74889357 2.87979327 3.01069296\n",
      " 3.14159265]\n",
      "[0.         0.18699956 0.37399913 0.56099869 0.74799825 0.93499781\n",
      " 1.12199738 1.30899694 1.4959965  1.68299606 1.86999563 2.05699519\n",
      " 2.24399475 2.43099432 2.61799388 2.7925268  2.90888209 3.02523737\n",
      " 3.14159265]\n",
      "[0.         0.18616845 0.37233691 0.55850536 0.74467381 0.93084227\n",
      " 1.11701072 1.30317917 1.48934763 1.67551608 1.86168454 2.04785299\n",
      " 2.23402144 2.4201899  2.60635835 2.7925268  2.96705973 3.05432619\n",
      " 3.14159265]\n",
      "[0.         0.18544123 0.37088247 0.5563237  0.74176493 0.92720617\n",
      " 1.1126474  1.29808863 1.48352986 1.6689711  1.85441233 2.03985356\n",
      " 2.2252948  2.41073603 2.59617726 2.7816185  2.96705973 3.14159265\n",
      " 3.14159265]\n",
      "[0.         0.18479957 0.36959914 0.5543987  0.73919827 0.92399784\n",
      " 1.10879741 1.29359698 1.47839654 1.66319611 1.84799568 2.03279525\n",
      " 2.21759481 2.40239438 2.58719395 2.77199352 2.95679309 3.14159265\n",
      " 3.31612558]\n"
     ]
    }
   ],
   "source": [
    "for i in range(18):\n",
    "    ang = np.concatenate((tomopy.angles(i+1, ang1=0, ang2=10*(i+1)), tomopy.angles(18-i, ang1=10*(i+2), ang2=180)))\n",
    "    prj = tomopy.project(data, ang, pad=False)\n",
    "    prj = nor_data(prj)\n",
    "    # # tifffile.imsave(f'/data/xrf_tomo_andy/exp_202211_sim/prj_sim_{18*(i+1)+1}.tiff', prj)\n",
    "    # recon_gridrec = tomopy.recon(prj, ang, algorithm='gridrec', filter_name='parzen')\n",
    "    # tifffile.imsave(f'/data/xrf_tomo_andy/exp_202211_sim/recon/recon_gridrec_{18*(i+1)+1}.tiff', recon_gridrec)\n",
    "    # mssim_gridrec = mssim_compute(data, recon_gridrec)\n",
    "    # recon_sirt = tomopy.recon(prj, ang, algorithm='sirt', num_iter =100)\n",
    "    # tifffile.imsave(f'/data/xrf_tomo_andy/exp_202211_sim/recon/recon_sirt_{18*(i+1)+1}.tiff', recon_sirt)\n",
    "    # mssim_sirt = mssim_compute(data, recon_sirt)\n",
    "    recon_mlem = tomopy.recon(prj, ang, algorithm='pml_hybrid', num_iter =100)\n",
    "    tifffile.imsave(f'/data/xrf_tomo_andy/exp_202211_sim/recon/nonuniform/recon_pml_hybrid_{10*(i+1)+1}.tiff', recon_mlem)\n",
    "    # mssim_pml = mssim_compute(data, recon_mlem)\n",
    "    print(ang)"
   ]
  },
  {
   "cell_type": "code",
   "execution_count": 4,
   "metadata": {},
   "outputs": [
    {
     "data": {
      "text/plain": [
       "array([0.        , 0.17453293, 0.34906585, 0.52359878, 0.6981317 ,\n",
       "       0.87266463, 1.04719755, 1.22173048, 1.3962634 , 1.57079633,\n",
       "       1.74532925, 1.91986218, 2.0943951 , 2.26892803, 2.44346095,\n",
       "       2.61799388, 2.7925268 , 2.96705973, 3.14159265])"
      ]
     },
     "execution_count": 4,
     "metadata": {},
     "output_type": "execute_result"
    }
   ],
   "source": [
    "ang = tomopy.angles(19)\n",
    "ang"
   ]
  }
 ],
 "metadata": {
  "kernelspec": {
   "display_name": "Python 3.9.7 ('general-data')",
   "language": "python",
   "name": "python3"
  },
  "language_info": {
   "codemirror_mode": {
    "name": "ipython",
    "version": 3
   },
   "file_extension": ".py",
   "mimetype": "text/x-python",
   "name": "python",
   "nbconvert_exporter": "python",
   "pygments_lexer": "ipython3",
   "version": "3.9.7"
  },
  "orig_nbformat": 4,
  "vscode": {
   "interpreter": {
    "hash": "7042ce9ec65935649c271fcbc240726e87d84dac044ecd9c728ceaae170cd745"
   }
  }
 },
 "nbformat": 4,
 "nbformat_minor": 2
}
